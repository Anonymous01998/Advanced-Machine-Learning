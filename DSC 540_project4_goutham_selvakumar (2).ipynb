{
 "cells": [
  {
   "cell_type": "markdown",
   "metadata": {
    "pycharm": {
     "name": "#%% md\n"
    }
   },
   "source": [
    "# DSC540 Project 4"
   ]
  },
  {
   "cell_type": "markdown",
   "metadata": {
    "pycharm": {
     "name": "#%% md\n"
    }
   },
   "source": [
    "DePaul University  \n",
    "Ilyas Ustun, PhD  \n",
    "Chicago, IL  "
   ]
  },
  {
   "cell_type": "markdown",
   "metadata": {
    "pycharm": {
     "name": "#%% md\n"
    }
   },
   "source": [
    "## Rules\n",
    "- Write your code under the corresponding questions where you see `# Code here`. You are encouraged to use more than one cell.\n",
    "- Provide explanation in a separate Markdown formatted cell. \n",
    "- You can change the cell type by:\n",
    "    - Clicking on the outer area of the cell type you want to change,\n",
    "    - Go to the top, and select either Code or Markdown from the dropdown menu.\n",
    "- Be concise in your explanations and conclusions.\n",
    "- Write clear code and provide explanation to functions you create by using `#` comment sign.\n",
    "- For built-in function and methods you use from libraries, provide a very brief explanation of what they do.\n",
    "- Try to answer the questions by yourself. Use documentation from pandas, sklearn and similar libraries to solve the problem.\n",
    "- If you are stuck you can use different resources. Do not find an identical project and copy paste the solutions. \n",
    "- Write your name before beginning to code.\n",
    "\n",
    "\n",
    "Important:  \n",
    "- **Do NOT share the solutions with other people.**\n",
    "- **Do NOT share the solutions on the internet including but not limited to Github and other platforms.**\n",
    "- Sign the Honor Pledge below indicating that you have agreed to these rules listed here, and any other ethical and honor rules as required by the university.\n",
    "\n",
    "\n",
    "\n",
    "- **Deliverables:**\n",
    "    1. The Python Jupyter notebook file named properly with your name. Example: dsc540_project1_john_doe.ipynb\n",
    "    2. The HTML output of this code notebook names the same way. Example: dsc540_project1_john_doe.html\n",
    "        - File -> Download as -> HTML   \n",
    "\n",
    "Good Luck!"
   ]
  },
  {
   "cell_type": "markdown",
   "metadata": {
    "pycharm": {
     "name": "#%% md\n"
    }
   },
   "source": [
    "### YOUR NAME HERE"
   ]
  },
  {
   "cell_type": "markdown",
   "metadata": {
    "pycharm": {
     "name": "#%% md\n"
    }
   },
   "source": [
    "**Honor Pledge:**  \n",
    "I pledge on my honor that I, **Goutham Selvakumar**, have followed the rules listed above, that I have not given or received any unauthorized assistance on this assignment. \n"
   ]
  },
  {
   "cell_type": "markdown",
   "metadata": {
    "pycharm": {
     "name": "#%% md\n"
    }
   },
   "source": [
    "## Q1 [10]"
   ]
  },
  {
   "cell_type": "markdown",
   "metadata": {
    "pycharm": {
     "name": "#%% md\n"
    }
   },
   "source": [
    "A drug company would like to introduce a drug to help patients with Alzheimer's. It is desirable to estimate $θ$, the proportion of the market share that this drug will capture. \n",
    "- The company interviews 100 people and 15 of them say that they will buy the drug. (This the observed data: n=100, observed=15) $->$ likelihood\n",
    "- If in the past new drugs tend to capture a proportion between say .10 and .40 of the market, and if all values in between are assumed equally likely, then $θ ∼ Unif(0.10, 0.40)$ $->$ prior"
   ]
  },
  {
   "cell_type": "markdown",
   "metadata": {
    "pycharm": {
     "name": "#%% md\n"
    }
   },
   "source": [
    "### What is the traceplot of $\\theta$ using Bayesian analysis to estimate the market share for the new drug?\n",
    "- Sample 10000 draws\n",
    "- Plot the traceplot"
   ]
  },
  {
   "cell_type": "code",
   "execution_count": 1,
   "metadata": {
    "pycharm": {
     "name": "#%%\n"
    }
   },
   "outputs": [
    {
     "name": "stderr",
     "output_type": "stream",
     "text": [
      "WARNING (theano.configdefaults): g++ not available, if using conda: `conda install m2w64-toolchain`\n",
      "WARNING (theano.configdefaults): g++ not detected ! Theano will be unable to execute optimized C-implementations (for both CPU and GPU) and will default to Python implementations. Performance will be severely degraded. To remove this warning, set Theano flags cxx to an empty string.\n",
      "WARNING (theano.tensor.blas): Using NumPy C-API based implementation for BLAS functions.\n"
     ]
    }
   ],
   "source": [
    "import pymc3 as pm\n",
    "import arviz as az"
   ]
  },
  {
   "cell_type": "code",
   "execution_count": 2,
   "metadata": {
    "pycharm": {
     "name": "#%%\n"
    }
   },
   "outputs": [
    {
     "name": "stderr",
     "output_type": "stream",
     "text": [
      "C:\\Users\\admin\\anaconda3\\lib\\site-packages\\deprecat\\classic.py:215: FutureWarning: In v4.0, pm.sample will return an `arviz.InferenceData` object instead of a `MultiTrace` by default. You can pass return_inferencedata=True or return_inferencedata=False to be safe and silence this warning.\n",
      "  return wrapped_(*args_, **kwargs_)\n",
      "Auto-assigning NUTS sampler...\n",
      "Initializing NUTS using jitter+adapt_diag...\n",
      "Multiprocess sampling (4 chains in 4 jobs)\n",
      "NUTS: [theta]\n"
     ]
    },
    {
     "data": {
      "text/html": [
       "\n",
       "<style>\n",
       "    /* Turns off some styling */\n",
       "    progress {\n",
       "        /* gets rid of default border in Firefox and Opera. */\n",
       "        border: none;\n",
       "        /* Needs to be in here for Safari polyfill so background images work as expected. */\n",
       "        background-size: auto;\n",
       "    }\n",
       "    progress:not([value]), progress:not([value])::-webkit-progress-bar {\n",
       "        background: repeating-linear-gradient(45deg, #7e7e7e, #7e7e7e 10px, #5c5c5c 10px, #5c5c5c 20px);\n",
       "    }\n",
       "    .progress-bar-interrupted, .progress-bar-interrupted::-webkit-progress-bar {\n",
       "        background: #F44336;\n",
       "    }\n",
       "</style>\n"
      ],
      "text/plain": [
       "<IPython.core.display.HTML object>"
      ]
     },
     "metadata": {},
     "output_type": "display_data"
    },
    {
     "data": {
      "text/html": [
       "\n",
       "    <div>\n",
       "      <progress value='42000' class='' max='42000' style='width:300px; height:20px; vertical-align: middle;'></progress>\n",
       "      100.00% [42000/42000 00:15&lt;00:00 Sampling 4 chains, 0 divergences]\n",
       "    </div>\n",
       "    "
      ],
      "text/plain": [
       "<IPython.core.display.HTML object>"
      ]
     },
     "metadata": {},
     "output_type": "display_data"
    },
    {
     "name": "stderr",
     "output_type": "stream",
     "text": [
      "Sampling 4 chains for 500 tune and 10_000 draw iterations (2_000 + 40_000 draws total) took 26 seconds.\n"
     ]
    },
    {
     "data": {
      "image/png": "[encoded data removed]",
      "text/plain": [
       "<Figure size 864x144 with 2 Axes>"
      ]
     },
     "metadata": {
      "needs_background": "light"
     },
     "output_type": "display_data"
    }
   ],
   "source": [
    "with pm.Model() as model:\n",
    "    \n",
    "    # Priors for unknown model parameters\n",
    "    theta = pm.Uniform(name = \"theta\", lower = 0.10, upper = 0.40)\n",
    "    \n",
    "    # Likelihood\n",
    "    x = pm.Binomial(name=\"x\", p=theta, n=100, observed=15)\n",
    "\n",
    "    # Posterior\n",
    "    # draw 10000 posterior samples\n",
    "    trace = pm.sample(draws = 10000, tune = 500)\n",
    "    \n",
    "    # Plot the trace plot\n",
    "    az.plot_trace(trace)"
   ]
  },
  {
   "cell_type": "markdown",
   "metadata": {
    "pycharm": {
     "name": "#%% md\n"
    }
   },
   "source": [
    "### Plot the posterior distribution plot of $ \\theta $\n",
    "- What is the mean posterior value?"
   ]
  },
  {
   "cell_type": "code",
   "execution_count": 3,
   "metadata": {
    "pycharm": {
     "name": "#%%\n"
    }
   },
   "outputs": [
    {
     "name": "stderr",
     "output_type": "stream",
     "text": [
      "Got error No model on context stack. trying to find log_likelihood in translation.\n",
      "C:\\Users\\admin\\anaconda3\\lib\\site-packages\\arviz\\data\\io_pymc3_3x.py:98: FutureWarning: Using `from_pymc3` without the model will be deprecated in a future release. Not using the model will return less accurate and less useful results. Make sure you use the model argument or call from_pymc3 within a model context.\n",
      "  warnings.warn(\n"
     ]
    },
    {
     "data": {
      "image/png": "[encoded data removed]",
      "text/plain": [
       "<Figure size 432x288 with 1 Axes>"
      ]
     },
     "metadata": {
      "needs_background": "light"
     },
     "output_type": "display_data"
    }
   ],
   "source": [
    "# Plot the posterior of trace\n",
    "az.plot_posterior(trace);"
   ]
  },
  {
   "cell_type": "markdown",
   "metadata": {
    "pycharm": {
     "name": "#%% md\n"
    }
   },
   "source": [
    "\n",
    "## Bayesian Network Analysis\n",
    "\n",
    "In this part we will be analyzing medical diagnosis using Bayes Nets. The structure and the Conditional Probabability Distribution tables are shown in the figure below."
   ]
  },
  {
   "cell_type": "markdown",
   "metadata": {
    "pycharm": {
     "name": "#%% md\n"
    }
   },
   "source": [
    "![MedicalDiagnosis](Med-diag-bnet.jpg)"
   ]
  },
  {
   "cell_type": "markdown",
   "metadata": {
    "pycharm": {
     "name": "#%% md\n"
    }
   },
   "source": [
    "- In the first few questions you will build the Bayes Net, set up the Conditional Probability Distribution tables, and associate the CPDs to the network.   \n",
    "- These steps are extremely important and crucial. Make sure you do the set up correctly, as everything else depends on that.   "
   ]
  },
  {
   "cell_type": "markdown",
   "metadata": {
    "pycharm": {
     "name": "#%% md\n"
    }
   },
   "source": [
    "## Import Libraries\n",
    "\n",
    "**Import the usual libraries for pandas and plotting, and sklearn.**"
   ]
  },
  {
   "cell_type": "code",
   "execution_count": 4,
   "metadata": {
    "pycharm": {
     "name": "#%%\n"
    }
   },
   "outputs": [],
   "source": [
    "import pandas as pd\n",
    "import numpy as np\n",
    "import matplotlib.pyplot as plt\n",
    "import seaborn as sns\n",
    "\n",
    "from sklearn import metrics"
   ]
  },
  {
   "cell_type": "code",
   "execution_count": 5,
   "metadata": {
    "pycharm": {
     "name": "#%%\n"
    }
   },
   "outputs": [],
   "source": [
    "# import pgmpy\n",
    "from pgmpy.models import BayesianModel\n",
    "from pgmpy.factors.discrete import TabularCPD"
   ]
  },
  {
   "cell_type": "code",
   "execution_count": 6,
   "metadata": {
    "pycharm": {
     "name": "#%%\n"
    }
   },
   "outputs": [
    {
     "data": {
      "text/plain": [
       "'1.1.3'"
      ]
     },
     "execution_count": 6,
     "metadata": {},
     "output_type": "execute_result"
    }
   ],
   "source": [
    "import sklearn\n",
    "sklearn.__version__"
   ]
  },
  {
   "cell_type": "markdown",
   "metadata": {
    "pycharm": {
     "name": "#%% md\n"
    }
   },
   "source": [
    "### These are the packages I used"
   ]
  },
  {
   "cell_type": "code",
   "execution_count": 7,
   "metadata": {
    "pycharm": {
     "name": "#%%\n"
    }
   },
   "outputs": [],
   "source": [
    "# Your package imports here"
   ]
  },
  {
   "cell_type": "markdown",
   "metadata": {
    "pycharm": {
     "name": "#%% md\n"
    }
   },
   "source": [
    "## Q2 [10]\n",
    "\n",
    "**Define the model structure.** \n",
    "\n",
    "You need to define the network by passing a list of edges. "
   ]
  },
  {
   "cell_type": "code",
   "execution_count": 8,
   "metadata": {
    "pycharm": {
     "name": "#%%\n"
    }
   },
   "outputs": [
    {
     "name": "stderr",
     "output_type": "stream",
     "text": [
      "C:\\Users\\admin\\anaconda3\\lib\\site-packages\\pgmpy\\models\\BayesianModel.py:8: FutureWarning: BayesianModel has been renamed to BayesianNetwork. Please use BayesianNetwork class, BayesianModel will be removed in future.\n",
      "  warnings.warn(\n"
     ]
    }
   ],
   "source": [
    "model = BayesianModel([('Smokes', 'LungDisease'), ('LungDisease', 'ShortnessBreath'), ('LungDisease', 'ChestPain'), ('LungDisease', 'Cough'), ('Cold', 'Cough'), ('Cold', 'Fever')])"
   ]
  },
  {
   "cell_type": "code",
   "execution_count": 9,
   "metadata": {
    "pycharm": {
     "name": "#%%\n"
    }
   },
   "outputs": [],
   "source": [
    "# Your code\n",
    "# model = BayesianModel([('Smokes', 'LungDisease'),.........])"
   ]
  },
  {
   "cell_type": "markdown",
   "metadata": {
    "pycharm": {
     "name": "#%% md\n"
    }
   },
   "source": [
    "## Q3 [15] \n",
    "\n",
    "**Define individual CPDs**\n",
    "- Define the CPDs using the state names of the variables. "
   ]
  },
  {
   "cell_type": "code",
   "execution_count": 10,
   "metadata": {
    "scrolled": true,
    "pycharm": {
     "name": "#%%\n"
    }
   },
   "outputs": [
    {
     "name": "stdout",
     "output_type": "stream",
     "text": [
      "+-----------+-----+\n",
      "| Smokes(T) | 0.2 |\n",
      "+-----------+-----+\n",
      "| Smokes(F) | 0.8 |\n",
      "+-----------+-----+\n",
      "+----------------+-----------+-----------+\n",
      "| Smokes         | Smokes(T) | Smokes(F) |\n",
      "+----------------+-----------+-----------+\n",
      "| LungDisease(T) | 0.1009    | 0.001     |\n",
      "+----------------+-----------+-----------+\n",
      "| LungDisease(F) | 0.8991    | 0.999     |\n",
      "+----------------+-----------+-----------+\n",
      "+--------------------+----------------+----------------+\n",
      "| LungDisease        | LungDisease(T) | LungDisease(F) |\n",
      "+--------------------+----------------+----------------+\n",
      "| ShortnessBreath(T) | 0.208          | 0.01           |\n",
      "+--------------------+----------------+----------------+\n",
      "| ShortnessBreath(F) | 0.792          | 0.99           |\n",
      "+--------------------+----------------+----------------+\n",
      "+--------------+----------------+----------------+\n",
      "| LungDisease  | LungDisease(T) | LungDisease(F) |\n",
      "+--------------+----------------+----------------+\n",
      "| ChestPain(T) | 0.208          | 0.01           |\n",
      "+--------------+----------------+----------------+\n",
      "| ChestPain(F) | 0.792          | 0.99           |\n",
      "+--------------+----------------+----------------+\n",
      "+---------+------+\n",
      "| Cold(T) | 0.02 |\n",
      "+---------+------+\n",
      "| Cold(F) | 0.98 |\n",
      "+---------+------+\n",
      "+-------------+----------------+-----+----------------+----------------+\n",
      "| LungDisease | LungDisease(T) | ... | LungDisease(F) | LungDisease(F) |\n",
      "+-------------+----------------+-----+----------------+----------------+\n",
      "| Cold        | Cold(T)        | ... | Cold(T)        | Cold(F)        |\n",
      "+-------------+----------------+-----+----------------+----------------+\n",
      "| Cough(T)    | 0.7525         | ... | 0.505          | 0.01           |\n",
      "+-------------+----------------+-----+----------------+----------------+\n",
      "| Cough(F)    | 0.2475         | ... | 0.495          | 0.99           |\n",
      "+-------------+----------------+-----+----------------+----------------+\n",
      "+----------+---------+---------+\n",
      "| Cold     | Cold(T) | Cold(F) |\n",
      "+----------+---------+---------+\n",
      "| Fever(T) | 0.307   | 0.01    |\n",
      "+----------+---------+---------+\n",
      "| Fever(F) | 0.693   | 0.99    |\n",
      "+----------+---------+---------+\n"
     ]
    }
   ],
   "source": [
    "cpd_Smokes = TabularCPD(variable='Smokes', variable_card=2, values=[[0.2], [0.8]], state_names={'Smokes' : ['T', 'F']})\n",
    "print(cpd_Smokes)\n",
    "cpd_LungDisease = TabularCPD(variable='LungDisease', \n",
    "                             variable_card=2, \n",
    "                             values=[[0.1009, 0.001],\n",
    "                                     [0.8991, 0.999]],\n",
    "                             evidence=['Smokes'],\n",
    "                             evidence_card=[2],\n",
    "                            state_names={'Smokes' : ['T', 'F'], 'LungDisease' : ['T', 'F']})\n",
    "print(cpd_LungDisease)\n",
    "cpd_ShortnessBreath = TabularCPD(variable='ShortnessBreath', \n",
    "                             variable_card=2, \n",
    "                             values=[[0.208, 0.01],\n",
    "                                     [0.792, 0.99]],\n",
    "                             evidence=['LungDisease'],\n",
    "                             evidence_card=[2],\n",
    "                            state_names={'LungDisease' : ['T', 'F'], 'ShortnessBreath' : ['T', 'F']})\n",
    "print(cpd_ShortnessBreath)\n",
    "cpd_ChestPain = TabularCPD(variable='ChestPain', \n",
    "                             variable_card=2, \n",
    "                             values=[[0.208, 0.01],\n",
    "                                     [0.792, 0.99]],\n",
    "                             evidence=['LungDisease'],\n",
    "                             evidence_card=[2],\n",
    "                            state_names={'LungDisease' : ['T', 'F'], 'ChestPain' : ['T', 'F']})\n",
    "print(cpd_ChestPain)\n",
    "cpd_Cold = TabularCPD(variable='Cold', variable_card=2, values=[[0.02], [0.98]], state_names={'Cold' : ['T', 'F']})\n",
    "print(cpd_Cold)\n",
    "cpd_Cough = TabularCPD(variable='Cough', \n",
    "                             variable_card=2, \n",
    "                             values=[[0.7525, 0.505, 0.505, 0.01],\n",
    "                                     [0.2475, 0.495, 0.495, 0.99]],\n",
    "                             evidence=['LungDisease', 'Cold'],\n",
    "                             evidence_card=[2, 2],\n",
    "                            state_names={'LungDisease' : ['T', 'F'], 'Cold' : ['T', 'F'], 'Cough' : ['T', 'F']})\n",
    "print(cpd_Cough)\n",
    "cpd_Fever = TabularCPD(variable='Fever', variable_card=2, values=[[0.307, 0.01], [0.693, 0.99]], evidence=['Cold'],\n",
    "                             evidence_card=[2], state_names={'Cold' : ['T', 'F'], 'Fever': ['T', 'F']})\n",
    "print(cpd_Fever)"
   ]
  },
  {
   "cell_type": "code",
   "execution_count": 11,
   "metadata": {
    "pycharm": {
     "name": "#%%\n"
    }
   },
   "outputs": [],
   "source": [
    "# Your code"
   ]
  },
  {
   "cell_type": "markdown",
   "metadata": {
    "pycharm": {
     "name": "#%% md\n"
    }
   },
   "source": [
    "## Q4 [5] \n",
    "- Check that each of the CPDs are correct"
   ]
  },
  {
   "cell_type": "code",
   "execution_count": 13,
   "metadata": {
    "pycharm": {
     "name": "#%%\n"
    }
   },
   "outputs": [
    {
     "data": {
      "text/plain": [
       "<TabularCPD representing P(Smokes:2) at 0x1a20fe1cd90>"
      ]
     },
     "execution_count": 13,
     "metadata": {},
     "output_type": "execute_result"
    }
   ],
   "source": [
    "cpd_Smokes"
   ]
  },
  {
   "cell_type": "code",
   "execution_count": 15,
   "metadata": {
    "pycharm": {
     "name": "#%%\n"
    }
   },
   "outputs": [
    {
     "name": "stdout",
     "output_type": "stream",
     "text": [
      "+-----------+-----+\n",
      "| Smokes(T) | 0.2 |\n",
      "+-----------+-----+\n",
      "| Smokes(F) | 0.8 |\n",
      "+-----------+-----+\n"
     ]
    }
   ],
   "source": [
    "print(cpd_Smokes)"
   ]
  },
  {
   "cell_type": "code",
   "execution_count": 16,
   "metadata": {
    "pycharm": {
     "name": "#%%\n"
    }
   },
   "outputs": [
    {
     "data": {
      "text/plain": [
       "<TabularCPD representing P(LungDisease:2 | Smokes:2) at 0x1a20fdc2e50>"
      ]
     },
     "execution_count": 16,
     "metadata": {},
     "output_type": "execute_result"
    }
   ],
   "source": [
    "cpd_LungDisease"
   ]
  },
  {
   "cell_type": "code",
   "execution_count": 17,
   "metadata": {
    "pycharm": {
     "name": "#%%\n"
    }
   },
   "outputs": [
    {
     "name": "stdout",
     "output_type": "stream",
     "text": [
      "+----------------+-----------+-----------+\n",
      "| Smokes         | Smokes(T) | Smokes(F) |\n",
      "+----------------+-----------+-----------+\n",
      "| LungDisease(T) | 0.1009    | 0.001     |\n",
      "+----------------+-----------+-----------+\n",
      "| LungDisease(F) | 0.8991    | 0.999     |\n",
      "+----------------+-----------+-----------+\n"
     ]
    }
   ],
   "source": [
    "print(cpd_LungDisease)"
   ]
  },
  {
   "cell_type": "code",
   "execution_count": 18,
   "metadata": {
    "pycharm": {
     "name": "#%%\n"
    }
   },
   "outputs": [
    {
     "data": {
      "text/plain": [
       "<TabularCPD representing P(ShortnessBreath:2 | LungDisease:2) at 0x1a20fd31580>"
      ]
     },
     "execution_count": 18,
     "metadata": {},
     "output_type": "execute_result"
    }
   ],
   "source": [
    "cpd_ShortnessBreath"
   ]
  },
  {
   "cell_type": "code",
   "execution_count": 19,
   "metadata": {
    "pycharm": {
     "name": "#%%\n"
    }
   },
   "outputs": [
    {
     "name": "stdout",
     "output_type": "stream",
     "text": [
      "+--------------------+----------------+----------------+\n",
      "| LungDisease        | LungDisease(T) | LungDisease(F) |\n",
      "+--------------------+----------------+----------------+\n",
      "| ShortnessBreath(T) | 0.208          | 0.01           |\n",
      "+--------------------+----------------+----------------+\n",
      "| ShortnessBreath(F) | 0.792          | 0.99           |\n",
      "+--------------------+----------------+----------------+\n"
     ]
    }
   ],
   "source": [
    "print(cpd_ShortnessBreath)"
   ]
  },
  {
   "cell_type": "code",
   "execution_count": 20,
   "metadata": {
    "pycharm": {
     "name": "#%%\n"
    }
   },
   "outputs": [
    {
     "data": {
      "text/plain": [
       "<TabularCPD representing P(ChestPain:2 | LungDisease:2) at 0x1a2157ae6d0>"
      ]
     },
     "execution_count": 20,
     "metadata": {},
     "output_type": "execute_result"
    }
   ],
   "source": [
    "cpd_ChestPain"
   ]
  },
  {
   "cell_type": "code",
   "execution_count": 21,
   "metadata": {
    "pycharm": {
     "name": "#%%\n"
    }
   },
   "outputs": [
    {
     "name": "stdout",
     "output_type": "stream",
     "text": [
      "+--------------+----------------+----------------+\n",
      "| LungDisease  | LungDisease(T) | LungDisease(F) |\n",
      "+--------------+----------------+----------------+\n",
      "| ChestPain(T) | 0.208          | 0.01           |\n",
      "+--------------+----------------+----------------+\n",
      "| ChestPain(F) | 0.792          | 0.99           |\n",
      "+--------------+----------------+----------------+\n"
     ]
    }
   ],
   "source": [
    "print(cpd_ChestPain)"
   ]
  },
  {
   "cell_type": "code",
   "execution_count": 22,
   "metadata": {
    "pycharm": {
     "name": "#%%\n"
    }
   },
   "outputs": [
    {
     "data": {
      "text/plain": [
       "<TabularCPD representing P(Cold:2) at 0x1a2157ae7c0>"
      ]
     },
     "execution_count": 22,
     "metadata": {},
     "output_type": "execute_result"
    }
   ],
   "source": [
    "cpd_Cold"
   ]
  },
  {
   "cell_type": "code",
   "execution_count": 23,
   "metadata": {
    "pycharm": {
     "name": "#%%\n"
    }
   },
   "outputs": [
    {
     "name": "stdout",
     "output_type": "stream",
     "text": [
      "+---------+------+\n",
      "| Cold(T) | 0.02 |\n",
      "+---------+------+\n",
      "| Cold(F) | 0.98 |\n",
      "+---------+------+\n"
     ]
    }
   ],
   "source": [
    "print(cpd_Cold)"
   ]
  },
  {
   "cell_type": "code",
   "execution_count": 24,
   "metadata": {
    "pycharm": {
     "name": "#%%\n"
    }
   },
   "outputs": [
    {
     "data": {
      "text/plain": [
       "<TabularCPD representing P(Fever:2 | Cold:2) at 0x1a2157ae5b0>"
      ]
     },
     "execution_count": 24,
     "metadata": {},
     "output_type": "execute_result"
    }
   ],
   "source": [
    "cpd_Fever"
   ]
  },
  {
   "cell_type": "code",
   "execution_count": 25,
   "metadata": {
    "pycharm": {
     "name": "#%%\n"
    }
   },
   "outputs": [
    {
     "name": "stdout",
     "output_type": "stream",
     "text": [
      "+----------+---------+---------+\n",
      "| Cold     | Cold(T) | Cold(F) |\n",
      "+----------+---------+---------+\n",
      "| Fever(T) | 0.307   | 0.01    |\n",
      "+----------+---------+---------+\n",
      "| Fever(F) | 0.693   | 0.99    |\n",
      "+----------+---------+---------+\n"
     ]
    }
   ],
   "source": [
    "print(cpd_Fever)"
   ]
  },
  {
   "cell_type": "code",
   "execution_count": 26,
   "metadata": {
    "pycharm": {
     "name": "#%%\n"
    }
   },
   "outputs": [
    {
     "data": {
      "text/plain": [
       "<TabularCPD representing P(Cough:2 | LungDisease:2, Cold:2) at 0x1a2157ae880>"
      ]
     },
     "execution_count": 26,
     "metadata": {},
     "output_type": "execute_result"
    }
   ],
   "source": [
    "cpd_Cough"
   ]
  },
  {
   "cell_type": "code",
   "execution_count": 27,
   "metadata": {
    "pycharm": {
     "name": "#%%\n"
    }
   },
   "outputs": [
    {
     "name": "stdout",
     "output_type": "stream",
     "text": [
      "+-------------+----------------+-----+----------------+----------------+\n",
      "| LungDisease | LungDisease(T) | ... | LungDisease(F) | LungDisease(F) |\n",
      "+-------------+----------------+-----+----------------+----------------+\n",
      "| Cold        | Cold(T)        | ... | Cold(T)        | Cold(F)        |\n",
      "+-------------+----------------+-----+----------------+----------------+\n",
      "| Cough(T)    | 0.7525         | ... | 0.505          | 0.01           |\n",
      "+-------------+----------------+-----+----------------+----------------+\n",
      "| Cough(F)    | 0.2475         | ... | 0.495          | 0.99           |\n",
      "+-------------+----------------+-----+----------------+----------------+\n"
     ]
    }
   ],
   "source": [
    "print(cpd_Cough)"
   ]
  },
  {
   "cell_type": "markdown",
   "metadata": {
    "pycharm": {
     "name": "#%% md\n"
    }
   },
   "source": [
    "## Q5 [5]\n",
    "- Add the defined CPDs to the model (Associate the CPDs with the network)"
   ]
  },
  {
   "cell_type": "code",
   "execution_count": 28,
   "metadata": {
    "pycharm": {
     "name": "#%%\n"
    }
   },
   "outputs": [
    {
     "data": {
      "text/plain": [
       "True"
      ]
     },
     "execution_count": 28,
     "metadata": {},
     "output_type": "execute_result"
    }
   ],
   "source": [
    "model.add_cpds(cpd_Smokes, cpd_LungDisease, cpd_ShortnessBreath, cpd_ChestPain, cpd_Cold, cpd_Fever, cpd_Cough)\n",
    "model.check_model()"
   ]
  },
  {
   "cell_type": "code",
   "execution_count": 29,
   "metadata": {
    "pycharm": {
     "name": "#%%\n"
    }
   },
   "outputs": [
    {
     "data": {
      "text/plain": [
       "[<TabularCPD representing P(Smokes:2) at 0x1a20fe1cd90>,\n",
       " <TabularCPD representing P(LungDisease:2 | Smokes:2) at 0x1a20fdc2e50>,\n",
       " <TabularCPD representing P(ShortnessBreath:2 | LungDisease:2) at 0x1a20fd31580>,\n",
       " <TabularCPD representing P(ChestPain:2 | LungDisease:2) at 0x1a2157ae6d0>,\n",
       " <TabularCPD representing P(Cold:2) at 0x1a2157ae7c0>,\n",
       " <TabularCPD representing P(Fever:2 | Cold:2) at 0x1a2157ae5b0>,\n",
       " <TabularCPD representing P(Cough:2 | LungDisease:2, Cold:2) at 0x1a2157ae880>]"
      ]
     },
     "execution_count": 29,
     "metadata": {},
     "output_type": "execute_result"
    }
   ],
   "source": [
    "model.get_cpds()"
   ]
  },
  {
   "cell_type": "markdown",
   "metadata": {
    "pycharm": {
     "name": "#%% md\n"
    }
   },
   "source": [
    "## Q6 [5]\n",
    "- The cardinality of each of the nodes is 2 - True or False?"
   ]
  },
  {
   "cell_type": "code",
   "execution_count": 30,
   "metadata": {
    "pycharm": {
     "name": "#%%\n"
    }
   },
   "outputs": [
    {
     "name": "stdout",
     "output_type": "stream",
     "text": [
      "Cardinality of Smokes:  2 True\n",
      "Cardinality of LungDisease:  2 True\n",
      "Cardinality of ShortnessBreath:  2 True\n",
      "Cardinality of ChestPain:  2 True\n",
      "Cardinality of Cold:  2 True\n",
      "Cardinality of Fever:  2 True\n",
      "Cardinality of Cough:  2 True\n"
     ]
    }
   ],
   "source": [
    "#Cardinality of Smokes\n",
    "#Cardinality of LungDisease\n",
    "#Cardinality of ShortnessBreath\n",
    "#Cardinality of ChestPain\n",
    "#Cardinality of Cold\n",
    "#Cardinality of Fever\n",
    "#Cardinality of Cough\n",
    "print(\"Cardinality of Smokes: \", model.get_cardinality('Smokes'), model.get_cardinality('Smokes')==2)\n",
    "print(\"Cardinality of LungDisease: \", model.get_cardinality('LungDisease'), model.get_cardinality('LungDisease')==2)\n",
    "print(\"Cardinality of ShortnessBreath: \", model.get_cardinality('ShortnessBreath'), model.get_cardinality('ShortnessBreath')==2)\n",
    "print(\"Cardinality of ChestPain: \", model.get_cardinality('ChestPain'), model.get_cardinality('ChestPain')==2)\n",
    "print(\"Cardinality of Cold: \", model.get_cardinality('Cold'), model.get_cardinality('Cold')==2)\n",
    "print(\"Cardinality of Fever: \", model.get_cardinality('Fever'), model.get_cardinality('Fever')==2)\n",
    "print(\"Cardinality of Cough: \", model.get_cardinality('Cough'), model.get_cardinality('Cough')==2)"
   ]
  },
  {
   "cell_type": "markdown",
   "metadata": {
    "pycharm": {
     "name": "#%% md\n"
    }
   },
   "source": [
    "### Q7 [10] \n",
    "**Find the probability of each event hapenning using the variable elimination method.**\n",
    "- $ P(Smokes) $\n",
    "- $ P(Cold) $\n",
    "- $ P(LungDisease) $\n",
    "- $ P(ShortnessBreath) $\n",
    "- $ P(ChestPain) $\n",
    "- $ P(Fever) $\n",
    "- $ P(Cough) $\n",
    "- $ P(LungDisease|Smokes=True) $\n",
    "- $ P(LungDisease|Cough=True) $\n",
    "- $ P(ShortnessBreath|Smokes=True) $\n",
    "- $ P(ChestPain|Fever=True) $"
   ]
  },
  {
   "cell_type": "code",
   "execution_count": 31,
   "metadata": {
    "pycharm": {
     "name": "#%%\n"
    }
   },
   "outputs": [],
   "source": [
    "from pgmpy.inference import VariableElimination\n",
    "infer = VariableElimination(model)"
   ]
  },
  {
   "cell_type": "code",
   "execution_count": 40,
   "metadata": {
    "pycharm": {
     "name": "#%%\n"
    }
   },
   "outputs": [
    {
     "name": "stdout",
     "output_type": "stream",
     "text": [
      "+-----------+---------------+\n",
      "| Smokes    |   phi(Smokes) |\n",
      "+===========+===============+\n",
      "| Smokes(T) |        0.2000 |\n",
      "+-----------+---------------+\n",
      "| Smokes(F) |        0.8000 |\n",
      "+-----------+---------------+\n"
     ]
    }
   ],
   "source": [
    "#Smoke\n",
    "dist = infer.query(['Smokes'])\n",
    "print(dist)"
   ]
  },
  {
   "cell_type": "code",
   "execution_count": 41,
   "metadata": {
    "pycharm": {
     "name": "#%%\n"
    }
   },
   "outputs": [
    {
     "name": "stdout",
     "output_type": "stream",
     "text": [
      "+---------+-------------+\n",
      "| Cold    |   phi(Cold) |\n",
      "+=========+=============+\n",
      "| Cold(T) |      0.0200 |\n",
      "+---------+-------------+\n",
      "| Cold(F) |      0.9800 |\n",
      "+---------+-------------+\n"
     ]
    }
   ],
   "source": [
    "#Cold\n",
    "dist = infer.query(['Cold'])\n",
    "print(dist)"
   ]
  },
  {
   "cell_type": "code",
   "execution_count": 42,
   "metadata": {
    "pycharm": {
     "name": "#%%\n"
    }
   },
   "outputs": [
    {
     "name": "stdout",
     "output_type": "stream",
     "text": [
      "+----------------+--------------------+\n",
      "| LungDisease    |   phi(LungDisease) |\n",
      "+================+====================+\n",
      "| LungDisease(T) |             0.0210 |\n",
      "+----------------+--------------------+\n",
      "| LungDisease(F) |             0.9790 |\n",
      "+----------------+--------------------+\n"
     ]
    }
   ],
   "source": [
    "#LungDisease\n",
    "dist = infer.query(['LungDisease'])\n",
    "print(dist)"
   ]
  },
  {
   "cell_type": "code",
   "execution_count": 43,
   "metadata": {
    "pycharm": {
     "name": "#%%\n"
    }
   },
   "outputs": [
    {
     "name": "stdout",
     "output_type": "stream",
     "text": [
      "+--------------------+------------------------+\n",
      "| ShortnessBreath    |   phi(ShortnessBreath) |\n",
      "+====================+========================+\n",
      "| ShortnessBreath(T) |                 0.0142 |\n",
      "+--------------------+------------------------+\n",
      "| ShortnessBreath(F) |                 0.9858 |\n",
      "+--------------------+------------------------+\n"
     ]
    }
   ],
   "source": [
    "#ShortnessBreath\n",
    "dist = infer.query(['ShortnessBreath'])\n",
    "print(dist)"
   ]
  },
  {
   "cell_type": "code",
   "execution_count": 44,
   "metadata": {
    "pycharm": {
     "name": "#%%\n"
    }
   },
   "outputs": [
    {
     "name": "stdout",
     "output_type": "stream",
     "text": [
      "+--------------+------------------+\n",
      "| ChestPain    |   phi(ChestPain) |\n",
      "+==============+==================+\n",
      "| ChestPain(T) |           0.0142 |\n",
      "+--------------+------------------+\n",
      "| ChestPain(F) |           0.9858 |\n",
      "+--------------+------------------+\n"
     ]
    }
   ],
   "source": [
    "#ChestPain\n",
    "dist = infer.query(['ChestPain'])\n",
    "print(dist)"
   ]
  },
  {
   "cell_type": "code",
   "execution_count": 45,
   "metadata": {
    "pycharm": {
     "name": "#%%\n"
    }
   },
   "outputs": [
    {
     "name": "stdout",
     "output_type": "stream",
     "text": [
      "+----------+--------------+\n",
      "| Fever    |   phi(Fever) |\n",
      "+==========+==============+\n",
      "| Fever(T) |       0.0159 |\n",
      "+----------+--------------+\n",
      "| Fever(F) |       0.9841 |\n",
      "+----------+--------------+\n"
     ]
    }
   ],
   "source": [
    "#Fever\n",
    "dist = infer.query(['Fever'])\n",
    "print(dist)"
   ]
  },
  {
   "cell_type": "code",
   "execution_count": 46,
   "metadata": {
    "pycharm": {
     "name": "#%%\n"
    }
   },
   "outputs": [
    {
     "name": "stdout",
     "output_type": "stream",
     "text": [
      "+----------+--------------+\n",
      "| Cough    |   phi(Cough) |\n",
      "+==========+==============+\n",
      "| Cough(T) |       0.0302 |\n",
      "+----------+--------------+\n",
      "| Cough(F) |       0.9698 |\n",
      "+----------+--------------+\n"
     ]
    }
   ],
   "source": [
    "#Cough\n",
    "dist = infer.query(['Cough'])\n",
    "print(dist)"
   ]
  },
  {
   "cell_type": "code",
   "execution_count": 47,
   "metadata": {
    "pycharm": {
     "name": "#%%\n"
    }
   },
   "outputs": [
    {
     "name": "stdout",
     "output_type": "stream",
     "text": [
      "+----------------+--------------------+\n",
      "| LungDisease    |   phi(LungDisease) |\n",
      "+================+====================+\n",
      "| LungDisease(T) |             0.1009 |\n",
      "+----------------+--------------------+\n",
      "| LungDisease(F) |             0.8991 |\n",
      "+----------------+--------------------+\n"
     ]
    }
   ],
   "source": [
    "#LungDisease|Smokes = True\n",
    "dist = infer.query(['LungDisease'], evidence={'Smokes': 'T'})\n",
    "print(dist)"
   ]
  },
  {
   "cell_type": "code",
   "execution_count": 48,
   "metadata": {
    "pycharm": {
     "name": "#%%\n"
    }
   },
   "outputs": [
    {
     "name": "stdout",
     "output_type": "stream",
     "text": [
      "+----------------+--------------------+\n",
      "| LungDisease    |   phi(LungDisease) |\n",
      "+================+====================+\n",
      "| LungDisease(T) |             0.3545 |\n",
      "+----------------+--------------------+\n",
      "| LungDisease(F) |             0.6455 |\n",
      "+----------------+--------------------+\n"
     ]
    }
   ],
   "source": [
    "#LungDisease|Cough = True\n",
    "dist = infer.query(['LungDisease'], evidence={'Cough': 'T'})\n",
    "print(dist)"
   ]
  },
  {
   "cell_type": "code",
   "execution_count": 49,
   "metadata": {
    "pycharm": {
     "name": "#%%\n"
    }
   },
   "outputs": [
    {
     "name": "stdout",
     "output_type": "stream",
     "text": [
      "+--------------------+------------------------+\n",
      "| ShortnessBreath    |   phi(ShortnessBreath) |\n",
      "+====================+========================+\n",
      "| ShortnessBreath(T) |                 0.0300 |\n",
      "+--------------------+------------------------+\n",
      "| ShortnessBreath(F) |                 0.9700 |\n",
      "+--------------------+------------------------+\n"
     ]
    }
   ],
   "source": [
    "#ShortnessBreath|Smokes = True\n",
    "dist = infer.query(['ShortnessBreath'], evidence={'Smokes': 'T'})\n",
    "print(dist)"
   ]
  },
  {
   "cell_type": "code",
   "execution_count": 50,
   "metadata": {
    "pycharm": {
     "name": "#%%\n"
    }
   },
   "outputs": [
    {
     "name": "stdout",
     "output_type": "stream",
     "text": [
      "+--------------+------------------+\n",
      "| ChestPain    |   phi(ChestPain) |\n",
      "+==============+==================+\n",
      "| ChestPain(T) |           0.0142 |\n",
      "+--------------+------------------+\n",
      "| ChestPain(F) |           0.9858 |\n",
      "+--------------+------------------+\n"
     ]
    }
   ],
   "source": [
    "#ChestPain|Fever = True\n",
    "dist = infer.query(['ChestPain'], evidence={'Fever': 'T'})\n",
    "print(dist)"
   ]
  },
  {
   "cell_type": "markdown",
   "metadata": {
    "pycharm": {
     "name": "#%% md\n"
    }
   },
   "source": []
  },
  {
   "cell_type": "markdown",
   "metadata": {
    "pycharm": {
     "name": "#%% md\n"
    }
   },
   "source": [
    "## Q8 [15] \n",
    "**Are the following  true? If not, can you make them independent by including info on the parent?**\n",
    "1. Cough is independent from Fever. (Having knowledge about Fever does not change the probability of Cough) \n",
    "2. Fever is independent from Smokes. \n",
    "3. ChestPain is independent from Smokes.\n",
    "4. ChestPain is independent from Smokes given LungDisease.\n"
   ]
  },
  {
   "cell_type": "markdown",
   "metadata": {
    "pycharm": {
     "name": "#%% md\n"
    }
   },
   "source": [
    "##### 1. Cough is independent from Fever"
   ]
  },
  {
   "cell_type": "code",
   "execution_count": 51,
   "metadata": {
    "pycharm": {
     "name": "#%%\n"
    }
   },
   "outputs": [
    {
     "name": "stdout",
     "output_type": "stream",
     "text": [
      "+----------+--------------+\n",
      "| Cough    |   phi(Cough) |\n",
      "+==========+==============+\n",
      "| Cough(T) |       0.0302 |\n",
      "+----------+--------------+\n",
      "| Cough(F) |       0.9698 |\n",
      "+----------+--------------+\n",
      "+----------+--------------+\n",
      "| Cough    |   phi(Cough) |\n",
      "+==========+==============+\n",
      "| Cough(T) |       0.2091 |\n",
      "+----------+--------------+\n",
      "| Cough(F) |       0.7909 |\n",
      "+----------+--------------+\n",
      "+----------+--------------+\n",
      "| Cough    |   phi(Cough) |\n",
      "+==========+==============+\n",
      "| Cough(T) |       0.0273 |\n",
      "+----------+--------------+\n",
      "| Cough(F) |       0.9727 |\n",
      "+----------+--------------+\n"
     ]
    }
   ],
   "source": [
    "dist = infer.query(['Cough'])\n",
    "print(dist)\n",
    "dist = infer.query(['Cough'], evidence={'Fever':'T'})\n",
    "print(dist)\n",
    "dist = infer.query(['Cough'], evidence={'Fever':'F'})\n",
    "print(dist)"
   ]
  },
  {
   "cell_type": "markdown",
   "metadata": {
    "pycharm": {
     "name": "#%% md\n"
    }
   },
   "source": [
    "- Fever does affect Cough -> Not independent\n",
    "- However, given the parent of both Fever and Cough (Cold), they should be independent."
   ]
  },
  {
   "cell_type": "code",
   "execution_count": 52,
   "metadata": {
    "pycharm": {
     "name": "#%%\n"
    }
   },
   "outputs": [
    {
     "name": "stdout",
     "output_type": "stream",
     "text": [
      "+----------+--------------+\n",
      "| Cough    |   phi(Cough) |\n",
      "+==========+==============+\n",
      "| Cough(T) |       0.0204 |\n",
      "+----------+--------------+\n",
      "| Cough(F) |       0.9796 |\n",
      "+----------+--------------+\n",
      "+----------+--------------+\n",
      "| Cough    |   phi(Cough) |\n",
      "+==========+==============+\n",
      "| Cough(T) |       0.0204 |\n",
      "+----------+--------------+\n",
      "| Cough(F) |       0.9796 |\n",
      "+----------+--------------+\n",
      "+----------+--------------+\n",
      "| Cough    |   phi(Cough) |\n",
      "+==========+==============+\n",
      "| Cough(T) |       0.5102 |\n",
      "+----------+--------------+\n",
      "| Cough(F) |       0.4898 |\n",
      "+----------+--------------+\n",
      "+----------+--------------+\n",
      "| Cough    |   phi(Cough) |\n",
      "+==========+==============+\n",
      "| Cough(T) |       0.5102 |\n",
      "+----------+--------------+\n",
      "| Cough(F) |       0.4898 |\n",
      "+----------+--------------+\n"
     ]
    }
   ],
   "source": [
    "dist = infer.query(['Cough'], evidence={'Cold':'F', 'Fever':'T'})\n",
    "print(dist)\n",
    "dist = infer.query(['Cough'], evidence={'Cold':'F', 'Fever':'F'})\n",
    "print(dist)\n",
    "dist = infer.query(['Cough'], evidence={'Cold':'T', 'Fever':'T'})\n",
    "print(dist)\n",
    "dist = infer.query(['Cough'], evidence={'Cold':'T', 'Fever':'F'})\n",
    "print(dist)"
   ]
  },
  {
   "cell_type": "markdown",
   "metadata": {
    "pycharm": {
     "name": "#%% md\n"
    }
   },
   "source": [
    "Cough is independent from Fever"
   ]
  },
  {
   "cell_type": "markdown",
   "metadata": {
    "pycharm": {
     "name": "#%% md\n"
    }
   },
   "source": [
    "##### 2. Fever is independent from Smokes. "
   ]
  },
  {
   "cell_type": "code",
   "execution_count": 53,
   "metadata": {
    "pycharm": {
     "name": "#%%\n"
    }
   },
   "outputs": [
    {
     "name": "stdout",
     "output_type": "stream",
     "text": [
      "+----------+--------------+\n",
      "| Fever    |   phi(Fever) |\n",
      "+==========+==============+\n",
      "| Fever(T) |       0.0159 |\n",
      "+----------+--------------+\n",
      "| Fever(F) |       0.9841 |\n",
      "+----------+--------------+\n",
      "+----------+--------------+\n",
      "| Fever    |   phi(Fever) |\n",
      "+==========+==============+\n",
      "| Fever(T) |       0.0159 |\n",
      "+----------+--------------+\n",
      "| Fever(F) |       0.9841 |\n",
      "+----------+--------------+\n",
      "+----------+--------------+\n",
      "| Fever    |   phi(Fever) |\n",
      "+==========+==============+\n",
      "| Fever(T) |       0.0159 |\n",
      "+----------+--------------+\n",
      "| Fever(F) |       0.9841 |\n",
      "+----------+--------------+\n"
     ]
    }
   ],
   "source": [
    "# Your code\n",
    "dist = infer.query(['Fever'])\n",
    "print(dist)\n",
    "dist = infer.query(['Fever'], evidence={'Smokes':'T'})\n",
    "print(dist)\n",
    "dist = infer.query(['Fever'], evidence={'Smokes':'F'})\n",
    "print(dist)"
   ]
  },
  {
   "cell_type": "markdown",
   "metadata": {
    "pycharm": {
     "name": "#%% md\n"
    }
   },
   "source": [
    "Fever is independent from Smokes -> T"
   ]
  },
  {
   "cell_type": "markdown",
   "metadata": {
    "pycharm": {
     "name": "#%% md\n"
    }
   },
   "source": [
    "##### 3. ChestPain is independent from Smokes."
   ]
  },
  {
   "cell_type": "code",
   "execution_count": 54,
   "metadata": {
    "pycharm": {
     "name": "#%%\n"
    }
   },
   "outputs": [
    {
     "name": "stdout",
     "output_type": "stream",
     "text": [
      "+--------------+------------------+\n",
      "| ChestPain    |   phi(ChestPain) |\n",
      "+==============+==================+\n",
      "| ChestPain(T) |           0.0142 |\n",
      "+--------------+------------------+\n",
      "| ChestPain(F) |           0.9858 |\n",
      "+--------------+------------------+\n",
      "+--------------+------------------+\n",
      "| ChestPain    |   phi(ChestPain) |\n",
      "+==============+==================+\n",
      "| ChestPain(T) |           0.0300 |\n",
      "+--------------+------------------+\n",
      "| ChestPain(F) |           0.9700 |\n",
      "+--------------+------------------+\n",
      "+--------------+------------------+\n",
      "| ChestPain    |   phi(ChestPain) |\n",
      "+==============+==================+\n",
      "| ChestPain(T) |           0.0102 |\n",
      "+--------------+------------------+\n",
      "| ChestPain(F) |           0.9898 |\n",
      "+--------------+------------------+\n"
     ]
    }
   ],
   "source": [
    "# Your code\n",
    "dist = infer.query(['ChestPain'])\n",
    "print(dist)\n",
    "dist = infer.query(['ChestPain'], evidence={'Smokes':'T'})\n",
    "print(dist)\n",
    "dist = infer.query(['ChestPain'], evidence={'Smokes':'F'})\n",
    "print(dist)"
   ]
  },
  {
   "cell_type": "markdown",
   "metadata": {
    "pycharm": {
     "name": "#%% md\n"
    }
   },
   "source": [
    "Chest Pain NOT independent from Smokes -> F"
   ]
  },
  {
   "cell_type": "code",
   "execution_count": 55,
   "metadata": {
    "pycharm": {
     "name": "#%%\n"
    }
   },
   "outputs": [
    {
     "name": "stdout",
     "output_type": "stream",
     "text": [
      "+--------------+------------------+\n",
      "| ChestPain    |   phi(ChestPain) |\n",
      "+==============+==================+\n",
      "| ChestPain(T) |           0.0100 |\n",
      "+--------------+------------------+\n",
      "| ChestPain(F) |           0.9900 |\n",
      "+--------------+------------------+\n",
      "+--------------+------------------+\n",
      "| ChestPain    |   phi(ChestPain) |\n",
      "+==============+==================+\n",
      "| ChestPain(T) |           0.0100 |\n",
      "+--------------+------------------+\n",
      "| ChestPain(F) |           0.9900 |\n",
      "+--------------+------------------+\n",
      "+--------------+------------------+\n",
      "| ChestPain    |   phi(ChestPain) |\n",
      "+==============+==================+\n",
      "| ChestPain(T) |           0.2080 |\n",
      "+--------------+------------------+\n",
      "| ChestPain(F) |           0.7920 |\n",
      "+--------------+------------------+\n",
      "+--------------+------------------+\n",
      "| ChestPain    |   phi(ChestPain) |\n",
      "+==============+==================+\n",
      "| ChestPain(T) |           0.2080 |\n",
      "+--------------+------------------+\n",
      "| ChestPain(F) |           0.7920 |\n",
      "+--------------+------------------+\n"
     ]
    }
   ],
   "source": [
    "dist = infer.query(['ChestPain'], evidence={'LungDisease':'F', 'Smokes':'T'})\n",
    "print(dist)\n",
    "dist = infer.query(['ChestPain'], evidence={'LungDisease':'F', 'Smokes':'F'})\n",
    "print(dist)\n",
    "dist = infer.query(['ChestPain'], evidence={'LungDisease':'T', 'Smokes':'T'})\n",
    "print(dist)\n",
    "dist = infer.query(['ChestPain'], evidence={'LungDisease':'T', 'Smokes':'F'})\n",
    "print(dist)"
   ]
  },
  {
   "cell_type": "markdown",
   "metadata": {
    "pycharm": {
     "name": "#%% md\n"
    }
   },
   "source": [
    "## Q9 [20]\n",
    "1. Does having the knowledge that the person is coughing increase the probability of lung disease?\n",
    "2. Does having the knowledge that the person is coughing increase the probability that the person has Cold?\n",
    "3. Does having the knowledge that the person is coughing increase the probability that there is Fever?\n",
    "4. Does having the knowledge that the person is coughing increase the probability that there is Fever, given the person has Cold?\n",
    "5. Does having the knowledge that the person has Fever increase the probability that there is Lung Disease?\n"
   ]
  },
  {
   "cell_type": "markdown",
   "metadata": {
    "pycharm": {
     "name": "#%% md\n"
    }
   },
   "source": [
    "##### 1. Does having the knowledge that the person is coughing increase the probability of lung disease? [5]"
   ]
  },
  {
   "cell_type": "code",
   "execution_count": 56,
   "metadata": {
    "pycharm": {
     "name": "#%%\n"
    }
   },
   "outputs": [
    {
     "name": "stdout",
     "output_type": "stream",
     "text": [
      "+----------------+--------------------+\n",
      "| LungDisease    |   phi(LungDisease) |\n",
      "+================+====================+\n",
      "| LungDisease(T) |             0.0210 |\n",
      "+----------------+--------------------+\n",
      "| LungDisease(F) |             0.9790 |\n",
      "+----------------+--------------------+\n",
      "+----------------+--------------------+\n",
      "| LungDisease    |   phi(LungDisease) |\n",
      "+================+====================+\n",
      "| LungDisease(T) |             0.3545 |\n",
      "+----------------+--------------------+\n",
      "| LungDisease(F) |             0.6455 |\n",
      "+----------------+--------------------+\n"
     ]
    }
   ],
   "source": [
    "dist = infer.query(['LungDisease'])\n",
    "print(dist)\n",
    "dist = infer.query(['LungDisease'], evidence={'Cough': 'T'})\n",
    "print(dist)"
   ]
  },
  {
   "cell_type": "markdown",
   "metadata": {
    "pycharm": {
     "name": "#%% md\n"
    }
   },
   "source": [
    "Having the knowledge that the person is coughing increases the probability of lung disease."
   ]
  },
  {
   "cell_type": "markdown",
   "metadata": {
    "pycharm": {
     "name": "#%% md\n"
    }
   },
   "source": [
    "##### 2. Does having the knowledge that the person is coughing increase the probability that the person has Cold? [5]"
   ]
  },
  {
   "cell_type": "code",
   "execution_count": 57,
   "metadata": {
    "pycharm": {
     "name": "#%%\n"
    }
   },
   "outputs": [
    {
     "name": "stdout",
     "output_type": "stream",
     "text": [
      "+---------+-------------+\n",
      "| Cold    |   phi(Cold) |\n",
      "+=========+=============+\n",
      "| Cold(T) |      0.0200 |\n",
      "+---------+-------------+\n",
      "| Cold(F) |      0.9800 |\n",
      "+---------+-------------+\n",
      "+---------+-------------+\n",
      "| Cold    |   phi(Cold) |\n",
      "+=========+=============+\n",
      "| Cold(T) |      0.3381 |\n",
      "+---------+-------------+\n",
      "| Cold(F) |      0.6619 |\n",
      "+---------+-------------+\n"
     ]
    }
   ],
   "source": [
    "# Your code\n",
    "dist = infer.query(['Cold'])\n",
    "print(dist)\n",
    "dist = infer.query(['Cold'], evidence={'Cough': 'T'})\n",
    "print(dist)"
   ]
  },
  {
   "cell_type": "markdown",
   "metadata": {
    "pycharm": {
     "name": "#%% md\n"
    }
   },
   "source": [
    "Having the knowledge that the person is coughing increases the probability of Cold"
   ]
  },
  {
   "cell_type": "markdown",
   "metadata": {
    "pycharm": {
     "name": "#%% md\n"
    }
   },
   "source": [
    "##### 3. Does having the knowledge that the person is coughing increase the probability that there is Fever? [5]"
   ]
  },
  {
   "cell_type": "code",
   "execution_count": 58,
   "metadata": {
    "scrolled": true,
    "pycharm": {
     "name": "#%%\n"
    }
   },
   "outputs": [
    {
     "name": "stdout",
     "output_type": "stream",
     "text": [
      "+----------+--------------+\n",
      "| Fever    |   phi(Fever) |\n",
      "+==========+==============+\n",
      "| Fever(T) |       0.0159 |\n",
      "+----------+--------------+\n",
      "| Fever(F) |       0.9841 |\n",
      "+----------+--------------+\n",
      "+----------+--------------+\n",
      "| Fever    |   phi(Fever) |\n",
      "+==========+==============+\n",
      "| Fever(T) |       0.1104 |\n",
      "+----------+--------------+\n",
      "| Fever(F) |       0.8896 |\n",
      "+----------+--------------+\n"
     ]
    }
   ],
   "source": [
    "# Your code\n",
    "dist = infer.query(['Fever'])\n",
    "print(dist)\n",
    "dist = infer.query(['Fever'], evidence={'Cough': 'T'})\n",
    "print(dist)"
   ]
  },
  {
   "cell_type": "markdown",
   "metadata": {
    "pycharm": {
     "name": "#%% md\n"
    }
   },
   "source": [
    "Having the knowledge that the person is coughing increases the probability of Fever"
   ]
  },
  {
   "cell_type": "markdown",
   "metadata": {
    "pycharm": {
     "name": "#%% md\n"
    }
   },
   "source": [
    "##### 4. Does having the knowledge that the person is coughing increase the probability that there is Fever, given the person has Cold?"
   ]
  },
  {
   "cell_type": "code",
   "execution_count": 59,
   "metadata": {
    "pycharm": {
     "name": "#%%\n"
    }
   },
   "outputs": [
    {
     "name": "stdout",
     "output_type": "stream",
     "text": [
      "+----------+--------------+\n",
      "| Fever    |   phi(Fever) |\n",
      "+==========+==============+\n",
      "| Fever(T) |       0.3070 |\n",
      "+----------+--------------+\n",
      "| Fever(F) |       0.6930 |\n",
      "+----------+--------------+\n",
      "+----------+--------------+\n",
      "| Fever    |   phi(Fever) |\n",
      "+==========+==============+\n",
      "| Fever(T) |       0.3070 |\n",
      "+----------+--------------+\n",
      "| Fever(F) |       0.6930 |\n",
      "+----------+--------------+\n"
     ]
    }
   ],
   "source": [
    "# Your code\n",
    "dist = infer.query(['Fever'], evidence={ 'Cold': 'T' })\n",
    "print(dist)\n",
    "dist = infer.query(['Fever'], evidence={'Cough': 'T', 'Cold': 'T' })\n",
    "print(dist)"
   ]
  },
  {
   "cell_type": "markdown",
   "metadata": {
    "pycharm": {
     "name": "#%% md\n"
    }
   },
   "source": [
    "Having the knowledge that the person is coughing does not increase the probability of Cold"
   ]
  },
  {
   "cell_type": "markdown",
   "metadata": {
    "pycharm": {
     "name": "#%% md\n"
    }
   },
   "source": [
    "##### 5. Does having the knowledge that the person has Fever increase the probability that there is Lung Disease?"
   ]
  },
  {
   "cell_type": "code",
   "execution_count": 60,
   "metadata": {
    "pycharm": {
     "name": "#%%\n"
    }
   },
   "outputs": [
    {
     "name": "stdout",
     "output_type": "stream",
     "text": [
      "+----------------+--------------------+\n",
      "| LungDisease    |   phi(LungDisease) |\n",
      "+================+====================+\n",
      "| LungDisease(T) |             0.0210 |\n",
      "+----------------+--------------------+\n",
      "| LungDisease(F) |             0.9790 |\n",
      "+----------------+--------------------+\n",
      "+----------------+--------------------+\n",
      "| LungDisease    |   phi(LungDisease) |\n",
      "+================+====================+\n",
      "| LungDisease(T) |             0.0210 |\n",
      "+----------------+--------------------+\n",
      "| LungDisease(F) |             0.9790 |\n",
      "+----------------+--------------------+\n"
     ]
    }
   ],
   "source": [
    "# Your code\n",
    "dist = infer.query(['LungDisease'])\n",
    "print(dist)\n",
    "dist = infer.query(['LungDisease'], evidence={'Fever': 'T' })\n",
    "print(dist)"
   ]
  },
  {
   "cell_type": "markdown",
   "metadata": {
    "pycharm": {
     "name": "#%% md\n"
    }
   },
   "source": [
    "Having the knowledge that the person has fever does not increase the probability of LungDisease"
   ]
  },
  {
   "cell_type": "markdown",
   "metadata": {
    "pycharm": {
     "name": "#%% md\n"
    }
   },
   "source": [
    "## Q10 [5]\n",
    "1. What's the most probable state of Cough? \n",
    "2. What's the most probable state of Cough given Cold is True? \n",
    "3. What's the most probable state of Cough given Cold is True and Lung Disease is True?"
   ]
  },
  {
   "cell_type": "markdown",
   "metadata": {
    "pycharm": {
     "name": "#%% md\n"
    }
   },
   "source": [
    "##### 1. What's the most probable state of Cough? "
   ]
  },
  {
   "cell_type": "code",
   "execution_count": 61,
   "metadata": {
    "pycharm": {
     "name": "#%%\n"
    }
   },
   "outputs": [
    {
     "data": {
      "application/vnd.jupyter.widget-view+json": {
       "model_id": "870b4f323ce8433fae8fd0f6c97784d2",
       "version_major": 2,
       "version_minor": 0
      },
      "text/plain": [
       "  0%|          | 0/3 [00:00<?, ?it/s]"
      ]
     },
     "metadata": {},
     "output_type": "display_data"
    },
    {
     "data": {
      "application/vnd.jupyter.widget-view+json": {
       "model_id": "9036c92a04db45fbac42718213738388",
       "version_major": 2,
       "version_minor": 0
      },
      "text/plain": [
       "  0%|          | 0/3 [00:00<?, ?it/s]"
      ]
     },
     "metadata": {},
     "output_type": "display_data"
    },
    {
     "data": {
      "text/plain": [
       "{'Cough': 'F'}"
      ]
     },
     "execution_count": 61,
     "metadata": {},
     "output_type": "execute_result"
    }
   ],
   "source": [
    "infer.map_query(['Cough'])"
   ]
  },
  {
   "cell_type": "markdown",
   "metadata": {
    "pycharm": {
     "name": "#%% md\n"
    }
   },
   "source": [
    "The most probable state of Cough is False."
   ]
  },
  {
   "cell_type": "markdown",
   "metadata": {
    "pycharm": {
     "name": "#%% md\n"
    }
   },
   "source": [
    "##### 2. What's the most probable state of Cough given Cold is True? "
   ]
  },
  {
   "cell_type": "code",
   "execution_count": 62,
   "metadata": {
    "pycharm": {
     "name": "#%%\n"
    }
   },
   "outputs": [
    {
     "data": {
      "application/vnd.jupyter.widget-view+json": {
       "model_id": "04b011bdcbcd4ec2851612e1d8d00930",
       "version_major": 2,
       "version_minor": 0
      },
      "text/plain": [
       "  0%|          | 0/2 [00:00<?, ?it/s]"
      ]
     },
     "metadata": {},
     "output_type": "display_data"
    },
    {
     "data": {
      "application/vnd.jupyter.widget-view+json": {
       "model_id": "3dc47518c37a4cfd8d6fcde4f9641225",
       "version_major": 2,
       "version_minor": 0
      },
      "text/plain": [
       "  0%|          | 0/2 [00:00<?, ?it/s]"
      ]
     },
     "metadata": {},
     "output_type": "display_data"
    },
    {
     "data": {
      "text/plain": [
       "{'Cough': 'T'}"
      ]
     },
     "execution_count": 62,
     "metadata": {},
     "output_type": "execute_result"
    }
   ],
   "source": [
    "# Your code\n",
    "infer.map_query(['Cough'],evidence ={'Cold': 'T' })"
   ]
  },
  {
   "cell_type": "markdown",
   "metadata": {
    "pycharm": {
     "name": "#%% md\n"
    }
   },
   "source": [
    "The most probable state of Cough with Cold are True"
   ]
  },
  {
   "cell_type": "markdown",
   "metadata": {
    "pycharm": {
     "name": "#%% md\n"
    }
   },
   "source": [
    "##### 3. What's the most probable state of Cough given Cold is True and Lung Disease is True?"
   ]
  },
  {
   "cell_type": "code",
   "execution_count": 65,
   "metadata": {
    "pycharm": {
     "name": "#%%\n"
    }
   },
   "outputs": [
    {
     "data": {
      "application/vnd.jupyter.widget-view+json": {
       "model_id": "358fd18fa3af4b3da8257c0b31d6cdca",
       "version_major": 2,
       "version_minor": 0
      },
      "text/plain": [
       "0it [00:00, ?it/s]"
      ]
     },
     "metadata": {},
     "output_type": "display_data"
    },
    {
     "data": {
      "application/vnd.jupyter.widget-view+json": {
       "model_id": "adbcef8e081544fea995e23e3619ec4f",
       "version_major": 2,
       "version_minor": 0
      },
      "text/plain": [
       "0it [00:00, ?it/s]"
      ]
     },
     "metadata": {},
     "output_type": "display_data"
    },
    {
     "data": {
      "text/plain": [
       "{'Cough': 'T'}"
      ]
     },
     "execution_count": 65,
     "metadata": {},
     "output_type": "execute_result"
    }
   ],
   "source": [
    "# Your code\n",
    "infer.map_query(['Cough'],evidence ={'Cold': 'T', \n",
    "                                     'LungDisease' : 'T' })"
   ]
  },
  {
   "cell_type": "markdown",
   "metadata": {
    "pycharm": {
     "name": "#%% md\n"
    }
   },
   "source": [
    "The most probable state of Cough with Cold and LungDisease are TRUE"
   ]
  },
  {
   "cell_type": "markdown",
   "metadata": {
    "pycharm": {
     "name": "#%% md\n"
    }
   },
   "source": [
    "# Well done!"
   ]
  }
 ],
 "metadata": {
  "kernelspec": {
   "display_name": "Python 3 (ipykernel)",
   "language": "python",
   "name": "python3"
  },
  "language_info": {
   "codemirror_mode": {
    "name": "ipython",
    "version": 3
   },
   "file_extension": ".py",
   "mimetype": "text/x-python",
   "name": "python",
   "nbconvert_exporter": "python",
   "pygments_lexer": "ipython3",
   "version": "3.9.12"
  },
  "toc": {
   "base_numbering": 1,
   "nav_menu": {},
   "number_sections": false,
   "sideBar": false,
   "skip_h1_title": false,
   "title_cell": "Table of Contents",
   "title_sidebar": "Contents",
   "toc_cell": false,
   "toc_position": {},
   "toc_section_display": false,
   "toc_window_display": false
  }
 },
 "nbformat": 4,
 "nbformat_minor": 4
}